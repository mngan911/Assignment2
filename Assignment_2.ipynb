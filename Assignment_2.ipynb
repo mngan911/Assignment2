{
  "cells": [
    {
      "cell_type": "code",
      "execution_count": null,
      "id": "c04e9430",
      "metadata": {
        "id": "c04e9430"
      },
      "outputs": [],
      "source": [
        "### Assignment 2"
      ]
    },
    {
      "cell_type": "markdown",
      "source": [
        "# Q1"
      ],
      "metadata": {
        "id": "Qb1f1anaKmoo"
      },
      "id": "Qb1f1anaKmoo"
    },
    {
      "cell_type": "code",
      "execution_count": null,
      "id": "7859985a",
      "metadata": {
        "id": "7859985a"
      },
      "outputs": [],
      "source": [
        "# Question 1"
      ]
    },
    {
      "cell_type": "code",
      "execution_count": null,
      "id": "bcbe4761",
      "metadata": {
        "id": "bcbe4761"
      },
      "outputs": [],
      "source": [
        "import pandas as pd\n",
        "import numpy as np\n",
        "from scipy.optimize import minimize"
      ]
    },
    {
      "cell_type": "code",
      "execution_count": null,
      "id": "73456e94",
      "metadata": {
        "id": "73456e94"
      },
      "outputs": [],
      "source": [
        "data = pd.read_csv('https://www.stlouisfed.org/-/media/project/frbstl/stlouisfed/research/fred-md/monthly/current.csv?sc_lang=en&hash=80445D12401C59CF716410F3F7863B64')"
      ]
    },
    {
      "cell_type": "code",
      "execution_count": null,
      "id": "a55c1630",
      "metadata": {
        "id": "a55c1630"
      },
      "outputs": [],
      "source": [
        "# Clean the data to get the log difference of INDPRO\n",
        "\n",
        "data['INDPRO'] = pd.to_numeric(data['INDPRO'], errors='coerce')\n",
        "data = data.dropna(subset=['INDPRO'])\n",
        "data['log_diff_INDPRO'] = np.log(data['INDPRO']).diff().dropna()\n",
        "\n",
        "y = data['log_diff_INDPRO'].dropna().values"
      ]
    },
    {
      "cell_type": "code",
      "execution_count": null,
      "id": "7fc4faf8",
      "metadata": {
        "id": "7fc4faf8"
      },
      "outputs": [],
      "source": [
        "# Define the conditional Log Likelihood Function\n",
        "def conditional_log_likelihood(params, y):\n",
        "    c, phi1, phi2, sigma = params\n",
        "    residuals = y[2:] - c - phi1 * y[1:-1] - phi2 * y[:-2]\n",
        "    ll = -0.5 * np.sum(np.log(2 * np.pi * sigma**2) + (residuals**2) / sigma**2)\n",
        "    return -ll"
      ]
    },
    {
      "cell_type": "code",
      "execution_count": null,
      "id": "dcbc8361",
      "metadata": {
        "id": "dcbc8361"
      },
      "outputs": [],
      "source": [
        "# Define the unconditional Log Likelihood Funtion\n",
        "def unconditional_log_likelihood(params, y):\n",
        "    c, phi1, phi2, sigma = params\n",
        "    var = sigma**2 / (1 - phi1**2 - phi2**2)\n",
        "    ll_init = -0.5 * np.sum(np.log(2 * np.pi * var) + (y[:2]**2) / var)\n",
        "    residuals = y[2:] - c - phi1 * y[1:-1] - phi2 * y[:-2]\n",
        "    ll = -0.5 * np.sum(np.log(2 * np.pi * sigma**2) + (residuals**2) / sigma**2)\n",
        "    return -(ll + ll_init)"
      ]
    },
    {
      "cell_type": "code",
      "execution_count": null,
      "id": "9e0b24a8",
      "metadata": {
        "id": "9e0b24a8"
      },
      "outputs": [],
      "source": [
        "# Create initial parameters and bounds\n",
        "initial_params = [0, 0.5, 0.5, 1]\n",
        "bounds = [(None, None), (None, None), (None, None), (1e-6, None)]"
      ]
    },
    {
      "cell_type": "code",
      "execution_count": null,
      "id": "0c49bd6d",
      "metadata": {
        "id": "0c49bd6d"
      },
      "outputs": [],
      "source": [
        "# Get Conditional Likelihood parameters by minimizing the negatice -log-likelihood, therefore maximizing Log-likelihood\n",
        "result_cond = minimize(conditional_log_likelihood, initial_params, args=(data[2:],),\n",
        "                       method='L-BFGS-B', bounds=bounds)\n",
        "print(\"Conditional Likelihood:\")\n",
        "print(f\"c: {result_cond.x[0]:.6f}, phi1: {result_cond.x[1]:.6f}, phi2: {result_cond.x[2]:.6f}, sigma: {result_cond.x[3]:.6f}\")"
      ]
    },
    {
      "cell_type": "code",
      "execution_count": null,
      "id": "eb9573ca",
      "metadata": {
        "id": "eb9573ca",
        "outputId": "5960fe67-4528-4792-d67e-71224cf7e881"
      },
      "outputs": [
        {
          "name": "stdout",
          "output_type": "stream",
          "text": [
            "Conditional Likelihood:\n",
            "c: 0.001440, phi1: 0.307036, phi2: -0.069284, sigma: 0.009467\n"
          ]
        }
      ],
      "source": [
        "result_cond = minimize(conditional_log_likelihood, initial_params, args=(y[2:],),\n",
        "                       method='L-BFGS-B', bounds=bounds)\n",
        "print(\"Conditional Likelihood:\")\n",
        "print(f\"c: {result_cond.x[0]:.6f}, phi1: {result_cond.x[1]:.6f}, phi2: {result_cond.x[2]:.6f}, sigma: {result_cond.x[3]:.6f}\")"
      ]
    },
    {
      "cell_type": "code",
      "execution_count": null,
      "id": "1b316317",
      "metadata": {
        "id": "1b316317",
        "outputId": "8b6abd1e-ac67-493d-ba97-95c5fcad8485"
      },
      "outputs": [
        {
          "name": "stdout",
          "output_type": "stream",
          "text": [
            "Unconditional Likelihood:\n",
            "c: 0.050755, phi1: 0.125192, phi2: -0.217543, sigma: 0.977582\n"
          ]
        }
      ],
      "source": [
        "# Get Unconditional Likelihood parameters by minimizing the negatice -log-likelihood, therefore maximizing Log-likelihood\n",
        "result_uncond = minimize(unconditional_log_likelihood, initial_params, args=(data,),\n",
        "                         method='L-BFGS-B', bounds=bounds)\n",
        "print(\"Unconditional Likelihood:\")\n",
        "print(f\"c: {result_uncond.x[0]:.6f}, phi1: {result_uncond.x[1]:.6f}, phi2: {result_uncond.x[2]:.6f}, sigma: {result_uncond.x[3]:.6f}\")"
      ]
    },
    {
      "cell_type": "code",
      "execution_count": null,
      "id": "ebbcd3f6",
      "metadata": {
        "id": "ebbcd3f6",
        "outputId": "1ee2ad29-65bb-4881-eacd-6801844d3acb"
      },
      "outputs": [
        {
          "name": "stdout",
          "output_type": "stream",
          "text": [
            "Unconditional Likelihood:\n",
            "c: -0.291080, phi1: 0.132150, phi2: -0.293127, sigma: 0.611530\n"
          ]
        },
        {
          "name": "stderr",
          "output_type": "stream",
          "text": [
            "/var/folders/2l/0ynsc5t90bj6_gtg0m_qfvy80000gn/T/ipykernel_76436/1881661215.py:4: RuntimeWarning: invalid value encountered in log\n",
            "  ll_init = -0.5 * np.sum(np.log(2 * np.pi * var) + (y[:2]**2) / var)\n"
          ]
        }
      ],
      "source": [
        "result_uncond = minimize(unconditional_log_likelihood, initial_params, args=(y,),\n",
        "                         method='L-BFGS-B', bounds=bounds)\n",
        "print(\"Unconditional Likelihood:\")\n",
        "print(f\"c: {result_uncond.x[0]:.6f}, phi1: {result_uncond.x[1]:.6f}, phi2: {result_uncond.x[2]:.6f}, sigma: {result_uncond.x[3]:.6f}\")"
      ]
    },
    {
      "cell_type": "code",
      "execution_count": null,
      "id": "d610f239",
      "metadata": {
        "id": "d610f239"
      },
      "outputs": [],
      "source": [
        "# Define the OLS estimation for generalized AR(p) model\n",
        "def fit_ar_ols(data, p):\n",
        "    \"\"\"\n",
        "    OLS estimation for AR(p) model with a constant term.\n",
        "\n",
        "    data: observed data.\n",
        "    p: order of the AR model.\n",
        "    \"\"\"\n",
        "    T = len(data)\n",
        "    Y = data[p:]  # from p\n",
        "    X = np.column_stack([data[p - i - 1:T - i - 1] for i in range(p)])\n",
        "    X = np.column_stack((np.ones(X.shape[0]), X))  # c\n",
        "\n",
        "    # OLS beta = (X'X)^-1 X'Y\n",
        "    XTX = np.dot(X.T, X)\n",
        "    XTY = np.dot(X.T, Y)\n",
        "    beta_hat = np.linalg.solve(XTX, XTY)\n",
        "\n",
        "    return beta_hat"
      ]
    },
    {
      "cell_type": "code",
      "execution_count": null,
      "id": "13f2ce27",
      "metadata": {
        "id": "13f2ce27",
        "outputId": "c1f614d6-1e86-4e97-d89a-1f329afd93f4"
      },
      "outputs": [
        {
          "name": "stdout",
          "output_type": "stream",
          "text": [
            "Estimated AR coefficients: [ 0.05077606  0.12709428 -0.22057533]\n"
          ]
        }
      ],
      "source": [
        "# Extract AR(2) coefficients\n",
        "p = 2\n",
        "beta_hat = fit_ar_ols(data, p)\n",
        "print(\"Estimated AR coefficients:\", beta_hat)"
      ]
    },
    {
      "cell_type": "code",
      "execution_count": null,
      "id": "cdfb9265",
      "metadata": {
        "id": "cdfb9265",
        "outputId": "689c8ed1-4b64-4b56-a0cf-b972acb1a366"
      },
      "outputs": [
        {
          "name": "stdout",
          "output_type": "stream",
          "text": [
            "Estimated AR coefficients: [0.00135987 0.28940705 0.00269299]\n"
          ]
        }
      ],
      "source": [
        "p = 2\n",
        "beta_hat = fit_ar_ols(y, p)\n",
        "print(\"Estimated AR coefficients:\", beta_hat)"
      ]
    },
    {
      "cell_type": "markdown",
      "source": [
        "# Q2-3"
      ],
      "metadata": {
        "id": "EFdFc5IJKp4u"
      },
      "id": "EFdFc5IJKp4u"
    },
    {
      "cell_type": "code",
      "execution_count": null,
      "id": "00a48136",
      "metadata": {
        "id": "00a48136"
      },
      "outputs": [],
      "source": [
        "# Question 2 & 3"
      ]
    },
    {
      "cell_type": "code",
      "execution_count": null,
      "id": "8d1bed0b",
      "metadata": {
        "id": "8d1bed0b"
      },
      "outputs": [],
      "source": [
        "import numpy as np\n",
        "import pandas as pd\n",
        "from scipy.optimize import minimize\n",
        "from scipy.stats import norm"
      ]
    },
    {
      "cell_type": "code",
      "execution_count": null,
      "id": "28dcf758",
      "metadata": {
        "id": "28dcf758"
      },
      "outputs": [],
      "source": [
        "# Clean dataset to get log diff\n",
        "\n",
        "data = pd.read_csv('https://www.stlouisfed.org/-/media/project/frbstl/stlouisfed/research/fred-md/monthly/current.csv?sc_lang=en&hash=80445D12401C59CF716410F3F7863B64')\n",
        "data = data.iloc[1:].copy()\n",
        "data['INDPRO'] = pd.to_numeric(data['INDPRO'], errors='coerce')\n",
        "data.dropna(subset=['INDPRO'], inplace=True)\n",
        "\n",
        "log_diff = np.log(data['INDPRO']).diff().dropna()"
      ]
    },
    {
      "cell_type": "code",
      "execution_count": null,
      "id": "25ef28c4",
      "metadata": {
        "id": "25ef28c4"
      },
      "outputs": [],
      "source": [
        "# Define the AR likelihood funtion\n",
        "def ar_likelihood(params, y, p):\n",
        "    c = params[0]\n",
        "    phi = params[1:p+1]  # AR\n",
        "    sigma2 = params[-1]\n",
        "\n",
        "    T = len(y)\n",
        "    residuals = y[p:] - c - np.dot(np.column_stack([y[p-j-1:T-j-1] for j in range(p)]), phi)\n",
        "    log_likelihood = (-T/2 * np.log(2 * np.pi * sigma2) - np.sum(residuals**2) / (2 * sigma2))\n",
        "\n",
        "    return -log_likelihood"
      ]
    },
    {
      "cell_type": "code",
      "execution_count": null,
      "id": "6666897e",
      "metadata": {
        "id": "6666897e"
      },
      "outputs": [],
      "source": [
        "# AR estimate\n",
        "def estimate_ar_parameters(y, p):\n",
        "    params_initial = np.zeros(p+2)\n",
        "    params_initial[-1] = 1.0  # initial variance = 1\n",
        "\n",
        "    bounds = [(None, None)] + [(-1, 1) for _ in range(p)] + [(1e-6, None)]\n",
        "    result = minimize(ar_likelihood, params_initial, args=(y, p), bounds=bounds)\n",
        "\n",
        "    if result.success:\n",
        "        return result.x\n",
        "    else:\n",
        "        raise Exception(\"fault:\", result.message)"
      ]
    },
    {
      "cell_type": "code",
      "source": [
        "# Plugging data of INDPRO into defined function to get Unconditional Log-likelihood and Estimated parameters\n",
        "p = 2\n",
        "params = estimate_ar_parameters(log_diff, p)\n",
        "print(\"Estimated parameters:\", params)\n",
        "data = log_diff\n",
        "\n",
        "#Finding Unconditional Log-likelihood\n",
        "unconditional_log_likelihood = ar_likelihood(params, data, p)\n",
        "print(\"Unconditional Log-Likelihood:\", unconditional_log_likelihood)"
      ],
      "metadata": {
        "colab": {
          "base_uri": "https://localhost:8080/"
        },
        "id": "_VvJxdWAJi18",
        "outputId": "4a1eae91-456b-446a-c41c-4a0154ebc9bc"
      },
      "id": "_VvJxdWAJi18",
      "execution_count": null,
      "outputs": [
        {
          "output_type": "stream",
          "name": "stdout",
          "text": [
            "Estimated parameters: [1.34853758e-03 2.82715249e-01 1.29836896e-02 9.01881518e-05]\n",
            "Unconditional Log-Likelihood: -2564.369111208988\n"
          ]
        }
      ]
    },
    {
      "cell_type": "code",
      "execution_count": null,
      "id": "7a93dec0",
      "metadata": {
        "id": "7a93dec0"
      },
      "outputs": [],
      "source": [
        "# OLS to AR paras\n",
        "def fit_ar_ols(y, p):\n",
        "    T = len(y)\n",
        "    Y = y[p:]\n",
        "    X = np.column_stack([y[p-i-1:T-i-1] for i in range(p)])\n",
        "    X = np.column_stack((np.ones(X.shape[0]), X))\n",
        "\n",
        "    beta_hat = np.linalg.solve(X.T @ X, X.T @ Y)\n",
        "    return beta_hat"
      ]
    },
    {
      "cell_type": "code",
      "execution_count": null,
      "id": "4a1bf06e",
      "metadata": {
        "colab": {
          "base_uri": "https://localhost:8080/"
        },
        "id": "4a1bf06e",
        "outputId": "6824e4f4-59d3-4474-d5d7-77057b5994cf"
      },
      "outputs": [
        {
          "output_type": "stream",
          "name": "stdout",
          "text": [
            "MLE Estimation Not Restore Originals: [1.34853758e-03 2.82715249e-01 1.29836896e-02 9.01881518e-05]\n",
            "OLS Estimation: [ 0.00145197  0.30873154 -0.06607547]\n"
          ]
        }
      ],
      "source": [
        "# Create the MLE and OLS Estimation parameters\n",
        "p = 2\n",
        "params_mle = estimate_ar_parameters(log_diff, p)\n",
        "params_ols = fit_ar_ols(log_diff, p)\n",
        "\n",
        "print(\"MLE Estimation Not Restore Originals:\", params_mle)\n",
        "print(\"OLS Estimation:\", params_ols)\n"
      ]
    },
    {
      "cell_type": "code",
      "execution_count": null,
      "id": "2adf653a",
      "metadata": {
        "id": "2adf653a"
      },
      "outputs": [],
      "source": [
        "# prediction for future 8 months\n",
        "future_steps = 8\n",
        "predictions_mle, predictions_ols = [], []\n",
        "past_values = list(log_diff[-p:])\n",
        "\n",
        "for _ in range(future_steps):\n",
        "    next_pred_mle = params_mle[0] + sum(params_mle[i+1] * past_values[-(i + 1)] for i in range(p))\n",
        "    next_pred_ols = params_ols[0] + sum(params_ols[i+1] * past_values[-(i + 1)] for i in range(p))\n",
        "\n",
        "    predictions_mle.append(next_pred_mle)\n",
        "    predictions_ols.append(next_pred_ols)\n",
        "    past_values.append(next_pred_mle)\n"
      ]
    },
    {
      "cell_type": "code",
      "execution_count": null,
      "id": "45a292aa",
      "metadata": {
        "id": "45a292aa",
        "colab": {
          "base_uri": "https://localhost:8080/"
        },
        "outputId": "0e9072ad-8479-4ffa-be4b-4a9eeee7d1a3"
      },
      "outputs": [
        {
          "output_type": "stream",
          "name": "stdout",
          "text": [
            "Prediction for Future 8 Months (MLE): [np.float64(103.81384287204067), np.float64(104.04673311426546), np.float64(104.25711847891566), np.float64(104.46048373671142), np.float64(104.66183660444264), np.float64(104.86279816537261), np.float64(105.06389341751212), np.float64(105.26529272059089)]\n",
            "Prediction for Future 8 Months (OLS): [np.float64(103.75753296814125), np.float64(103.96693917466347), np.float64(104.16995048331617), np.float64(104.37093562039138), np.float64(104.57153347032202), np.float64(104.7722657453328), np.float64(104.97330210686727), np.float64(105.17469793290022)]\n",
            "Actual value for 8 months: [103.2534 102.5192 103.0196 102.5873 102.1219 101.9736 102.9833 103.511 ]\n"
          ]
        }
      ],
      "source": [
        "# reduction to the original scale\n",
        "data['INDPRO_forecast_mle'] = np.nan\n",
        "data['INDPRO_forecast_ols'] = np.nan\n",
        "last_value = data['INDPRO'].iloc[-1]\n",
        "\n",
        "forecast_values_mle = [last_value * np.exp(sum(predictions_mle[:i+1])) for i in range(future_steps)]\n",
        "forecast_values_ols = [last_value * np.exp(sum(predictions_ols[:i+1])) for i in range(future_steps)]\n",
        "actual_values = data['INDPRO'].iloc[-future_steps:].values\n",
        "\n",
        "\n",
        "print(\"Prediction for Future 8 Months (MLE):\", forecast_values_mle)\n",
        "print(\"Prediction for Future 8 Months (OLS):\", forecast_values_ols)\n",
        "print(\"Actual value for 8 months:\", actual_values)\n",
        "\n"
      ]
    },
    {
      "cell_type": "code",
      "execution_count": null,
      "id": "57d9ffbc",
      "metadata": {
        "colab": {
          "base_uri": "https://localhost:8080/"
        },
        "id": "57d9ffbc",
        "outputId": "f49d1c4a-142a-4c56-e821-86cad7c5a747"
      },
      "outputs": [
        {
          "output_type": "stream",
          "name": "stdout",
          "text": [
            "  Month  MLE Prediction  OLS Prediction  Actual Value\n",
            "0     1      103.813843      103.757533      103.2534\n",
            "1     2      104.046733      103.966939      102.5192\n",
            "2     3      104.257118      104.169950      103.0196\n",
            "3     4      104.460484      104.370936      102.5873\n",
            "4     5      104.661837      104.571533      102.1219\n",
            "5     6      104.862798      104.772266      101.9736\n",
            "6     7      105.063893      104.973302      102.9833\n",
            "7     8      105.265293      105.174698      103.5110\n",
            "8   MSE        3.736610        3.426999           NaN\n"
          ]
        }
      ],
      "source": [
        "# calculation of forecast error\n",
        "actual_values = data['INDPRO'].iloc[-future_steps:].values\n",
        "mse_mle = np.mean((forecast_values_mle - actual_values) ** 2)\n",
        "mse_ols = np.mean((forecast_values_ols - actual_values) ** 2)\n",
        "\n",
        "forecast = {\n",
        "    \"Month\": range(1, 9),  # Months 1 to 8\n",
        "    \"MLE Prediction\": forecast_values_mle,\n",
        "    \"OLS Prediction\": forecast_values_ols,\n",
        "    \"Actual Value\": actual_values\n",
        "}\n",
        "\n",
        "forecast_table = pd.DataFrame(forecast)\n",
        "forecast_table.loc[len(forecast_table)] = [\"MSE\", mse_mle, mse_ols, np.nan]\n",
        "\n",
        "print(forecast_table)"
      ]
    },
    {
      "cell_type": "code",
      "execution_count": null,
      "id": "e6d828e1",
      "metadata": {
        "colab": {
          "base_uri": "https://localhost:8080/"
        },
        "id": "e6d828e1",
        "outputId": "68a2440c-b019-4b57-d3ab-fd62ad4b2245"
      },
      "outputs": [
        {
          "output_type": "stream",
          "name": "stdout",
          "text": [
            "The smaller prediction error of the OLS method indicates that its prediction performance on this dataset is better than that of MLE.\n",
            "Possible reasons include:\n",
            "1. The OLS method is more robust to larger samples and may be less affected by outliers.\n",
            "2. The MLE method relies on assumptions about the error distribution, which may affect its predictive effectiveness if the data do not satisfy the normality assumption.\n"
          ]
        }
      ],
      "source": [
        "if mse_mle < mse_ols:\n",
        "    print(\"The smaller prediction error of the MLE method indicates that its prediction performance on this dataset is better than that of OLS.\")\n",
        "else:\n",
        "    print(\"The smaller prediction error of the OLS method indicates that its prediction performance on this dataset is better than that of MLE.\")\n",
        "\n",
        "print(\"Possible reasons include:\\n1. The OLS method is more robust to larger samples and may be less affected by outliers.\\n2. The MLE method relies on assumptions about the error distribution, which may affect its predictive effectiveness if the data do not satisfy the normality assumption.\")"
      ]
    },
    {
      "cell_type": "code",
      "execution_count": null,
      "id": "0d51e0e6",
      "metadata": {
        "colab": {
          "base_uri": "https://localhost:8080/",
          "height": 477
        },
        "id": "0d51e0e6",
        "outputId": "0a402eed-ffda-4f2e-f7cb-443b0a4aa734"
      },
      "outputs": [
        {
          "output_type": "display_data",
          "data": {
            "text/plain": [
              "<Figure size 1200x600 with 1 Axes>"
            ],
            "image/png": "[encoded data removed]"
          },
          "metadata": {}
        }
      ],
      "source": [
        "# Plotting forecast and actual value to compare\n",
        "import matplotlib.pyplot as plt\n",
        "steps = range(1, future_steps + 1)\n",
        "\n",
        "# Plot the forecasted values vs actual value\n",
        "plt.figure(figsize=(12, 6))\n",
        "plt.plot(steps, forecast_values_mle, label='MLE Forecast', color='red', linestyle='--', marker='o')\n",
        "plt.plot(steps, forecast_values_ols, label='OLS Forecast', color='green', linestyle='-.', marker='s')\n",
        "plt.plot(steps, actual_values, label='Actual', color='blue', linestyle='-', marker='x')\n",
        "\n",
        "plt.title('Industrial Production Forecast for Next 8 Months')\n",
        "plt.xlabel('Step(h)')\n",
        "plt.ylabel('INDPRO Value')\n",
        "plt.xticks(steps)\n",
        "plt.legend()\n",
        "plt.grid(True)\n",
        "plt.ylim(90, 110)\n",
        "\n",
        "plt.show()"
      ]
    },
    {
      "cell_type": "markdown",
      "source": [
        "Graphically, the forecast is quite close to real data"
      ],
      "metadata": {
        "id": "IblGIVc5Larh"
      },
      "id": "IblGIVc5Larh"
    }
  ],
  "metadata": {
    "kernelspec": {
      "display_name": "Python 3 (ipykernel)",
      "language": "python",
      "name": "python3"
    },
    "language_info": {
      "codemirror_mode": {
        "name": "ipython",
        "version": 3
      },
      "file_extension": ".py",
      "mimetype": "text/x-python",
      "name": "python",
      "nbconvert_exporter": "python",
      "pygments_lexer": "ipython3",
      "version": "3.9.12"
    },
    "colab": {
      "provenance": []
    }
  },
  "nbformat": 4,
  "nbformat_minor": 5
}